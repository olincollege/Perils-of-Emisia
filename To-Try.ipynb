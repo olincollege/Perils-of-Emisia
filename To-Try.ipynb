{
    "cells": [
        {
            "cell_type": "markdown",
            "metadata": {},
            "source": [
                "# Assignment 1: Python Basics\n",
                "\n",
                "This assignment is intended to strengthen your knowledge of basic Python.\n",
                "\n",
                "## 0. Rubric and Preliminary Setup\n",
                "\n",
                "In this course, it's helpful to take a look through the rubric for each assignment before you start and as you work through the problems.\n",
                "\n",
                "For each problem, the rubric provides a description of points you can expect to receive if your submission meets certain criteria. The criteria in the rubric is intended to give you a sense of what we will be looking for, and to ensure fairness and consistency in grading.\n",
                "\n",
                "Before starting work on this assignment, please skim through the rubric, `rubric-1.md`, to get a sense of how this assignment will be graded.\n",
                "\n",
                "Once you've done that, run the following cell, which will ensure that the latest version of your code is used each time you run a code cell in this notebook. If you ever restart your notebook, you should re-run this cell."
            ]
        },
        {
            "cell_type": "code",
            "execution_count": 7,
            "metadata": {},
            "outputs": [
                {
                    "output_type": "stream",
                    "name": "stdout",
                    "text": [
                        "The autoreload extension is already loaded. To reload it, use:\n  %reload_ext autoreload\n"
                    ]
                }
            ],
            "source": [
                "%load_ext autoreload\n",
                "%autoreload 2"
            ]
        },
        {
            "cell_type": "markdown",
            "metadata": {},
            "source": [
                "## 1. (Describe Function Here)\n",
                "\n",
                "In this first problem, you'll get some practice describing functions: what input they take, what they do, and what output they return. You'll do this by writing docstrings for a few functions.\n",
                "\n",
                "If you want to refresh your memory on how a docstring is formatted, see the [Docstrings section of Reading 1](https://softdes.olin.edu/docs/readings/1-python-basics/#docstrings).\n",
                "\n",
                "### One Billion Seconds\n",
                "\n",
                "The file `billion.py` contains a function that shows you how many years and days are left until you are a billion seconds old.\n",
                "\n",
                "Write a docstring for the function `time_to_billion_seconds` in the file.\n",
                "\n",
                "For fun, you can run the function here with your age:"
            ]
        },
        {
            "cell_type": "code",
            "execution_count": 26,
            "metadata": {},
            "outputs": [
                {
                    "output_type": "stream",
                    "name": "stdout",
                    "text": [
                        "You have 11.0 years and 0 days until you are a billion seconds old.\n"
                    ]
                }
            ],
            "source": [
                "from billion import time_to_billion_seconds\n",
                "\n",
                "# Set this to your age in years.\n",
                "age = 30.2\n",
                "\n",
                "time_to_billion_seconds(20.687)"
            ]
        },
        {
            "cell_type": "markdown",
            "metadata": {},
            "source": [
                "## Artificial...Intelligence?\n",
                "\n",
                "The file `baby_ai.py` contains a function that does some very basic math for you. Specifically, it takes two positive integers and a one-character string. If the string is `\"+\"`, the functions adds the two integers and returns the result, and if it is `\"*\"`, the function does the same thing but with multiplication. If the string isn't `\"+\"` or `\"*\"`, the function just returns -1.\n",
                "\n",
                "Write a dosctring for this function, which is called `basic_calc`.\n",
                "\n",
                "For fun, you can run the function here with some test arguments:"
            ]
        },
        {
            "cell_type": "code",
            "execution_count": 29,
            "metadata": {},
            "outputs": [
                {
                    "output_type": "execute_result",
                    "data": {
                        "text/plain": [
                            "13"
                        ]
                    },
                    "metadata": {},
                    "execution_count": 29
                }
            ],
            "source": [
                "from baby_ai import basic_calc\n",
                "\n",
                "# Feel free to change this and run it with whatever values you choose.\n",
                "basic_calc(6, 7, \"+\")"
            ]
        },
        {
            "cell_type": "markdown",
            "metadata": {},
            "source": [
                "## 2. Password Checker\n",
                "\n",
                "Passwords are, by far, the most commonly used form of authentication for software systems and services. Unfortunately, on their own, people tend to pick easily guessable passwords or reuse them across many services, making it easy to access online accounts without the real user's knowledge or authorization. In this problem, you will write some code for a password checker, which checks that a potential password will not be easily guessed.\n",
                "\n",
                "The file `password.py` contains all of the functions you will implement for this problem. Each function is pre-populated with a docstring, and has a line that simply says `pass`. You should replace these lines with your implementation in each function.\n",
                "\n",
                "### Blacklisted Passwords\n",
                "\n",
                "For your first password checker, simply check that the input string (`password`) is not one of the three most common passwords: `123456`, `qwerty`, or `password`.\n",
                "\n",
                "Implement your checker in the function `not_common_password`. This function should return `True` if `password` is **not** one of those passwords, and it should return `False` if `password` is any of those.\n",
                "\n",
                "For fun, you can try out your function in the cell below:"
            ]
        },
        {
            "cell_type": "code",
            "execution_count": 44,
            "metadata": {},
            "outputs": [
                {
                    "output_type": "execute_result",
                    "data": {
                        "text/plain": [
                            "False"
                        ]
                    },
                    "metadata": {},
                    "execution_count": 44
                }
            ],
            "source": [
                "from password import not_common_password\n",
                "\n",
                "# Try different passwords below.\n",
                "not_common_password(\"123456\")"
            ]
        },
        {
            "cell_type": "markdown",
            "metadata": {},
            "source": [
                "### Password Length\n",
                "\n",
                "For your next checker, make sure that `password` is between 6 and 16 characters long, inclusive.\n",
                "\n",
                "Implement your checker in the function `meets_length_restriction`. This function should return `True` if `password` is exactly 6 characters long, exactly 16 characters long, or anywhere in between, and `False` otherwise.\n",
                "\n",
                "For fun, you can try out your function in the cell below:"
            ]
        },
        {
            "cell_type": "code",
            "execution_count": 40,
            "metadata": {},
            "outputs": [
                {
                    "output_type": "execute_result",
                    "data": {
                        "text/plain": [
                            "False"
                        ]
                    },
                    "metadata": {},
                    "execution_count": 40
                }
            ],
            "source": [
                "from password import meets_length_restriction\n",
                "\n",
                "# Try different passwords below.\n",
                "meets_length_restriction(\"hunterhunterhunte\")"
            ]
        },
        {
            "cell_type": "markdown",
            "metadata": {},
            "source": [
                "### Character Classes\n",
                "\n",
                "For this checker, make sure that `password` contains at least one character from each of the following classes:\n",
                "\n",
                "* Lowercase letters\n",
                "* Uppercase letters\n",
                "* Digits\n",
                "* Punctuation\n",
                "\n",
                "Implement your checker in the function `uses_all_character_classes`. This function should return `True` if `password` has one or more characters in each of the above classes and `False` otherwise.\n",
                "\n",
                "For convenience, we have made available four variables representing each of the four character classes:\n",
                "\n",
                "* `ascii_lowercase` is a string with all lowercase letters (`a` through `z`).\n",
                "* `ascii_uppercase` is a string with all uppercase letters (`A` through `Z`).\n",
                "* `digits` is a string with all digits (`0` through `9`).\n",
                "* `punctuation` is a string with all punctuation (you don't need to know what specific characters they are for this problem).\n",
                "\n",
                "We have also provided a helper function, `count_occurrences_in_string(target, characters_to_count)`, which counts the number of characters in `target` that appear in `characters_to_count`. Feel free to call this function in your implementation.\n",
                "\n",
                "For fun, you can try out your function in the cell below:"
            ]
        },
        {
            "cell_type": "code",
            "execution_count": 54,
            "metadata": {},
            "outputs": [
                {
                    "output_type": "execute_result",
                    "data": {
                        "text/plain": [
                            "True"
                        ]
                    },
                    "metadata": {},
                    "execution_count": 54
                }
            ],
            "source": [
                "from password import uses_all_character_classes\n",
                "\n",
                "# Try different passwords below.\n",
                "uses_all_character_classes(\"Hunter2!\")"
            ]
        },
        {
            "cell_type": "markdown",
            "metadata": {},
            "source": [
                "### Multiple Sets of Password Rules\n",
                "\n",
                "The classic XKCD comic on password strength provides an alternate way to pick stronger passwords:\n",
                "\n",
                "![Password strength (correct horse battery\n",
                "staple)](https://imgs.xkcd.com/comics/password_strength.png)\n",
                "\n",
                "*Source*: https://xkcd.com/936/\n",
                "\n",
                "The password `correct horse battery staple` would not pass all of the checks you wrote in the previous section - it does not contain any uppercase letters, digits, or punctuation. However, it wouldn't make sense to drop these rules for all passwords, only for passwords that are not a sequence of words. Essentially, if the password is long enough, you can reasonable assume that it is a sequence of words and not enforce rules on which types of characters the password contains.\n",
                "\n",
                "For this checker, then, check whether the password is *strictly* longer than 16 characters (this time, exactly 16 characters long doesn't cut it). Any passwords that meet this criterion are automatically accepted, and your checker should return `True`. If a password is shorter (up to 16 characters long), then check whether it meets **all three** of the criteria above (doesn't use the three common passwords, is between 6 and 16 characters, and has at least one character of each class) and return the result.\n",
                "\n",
                "Implement your checker in the function `long_enough_or_all_rules`. This function should return `True` if `password` is longer than 16 characters, or if it would pass all three other checkers you implemented for this problem, and `False` otherwise.\n",
                "\n",
                "For fun, you can try out your function in the cell below:"
            ]
        },
        {
            "cell_type": "code",
            "execution_count": 10,
            "metadata": {},
            "outputs": [
                {
                    "output_type": "execute_result",
                    "data": {
                        "text/plain": [
                            "True"
                        ]
                    },
                    "metadata": {},
                    "execution_count": 10
                }
            ],
            "source": [
                "from password import long_enough_or_all_rules\n",
                "\n",
                "# Try different passwords below.\n",
                "long_enough_or_all_rules(\"Hunter!!!!!!!!!!!!!!!!!!\")"
            ]
        },
        {
            "cell_type": "markdown",
            "metadata": {},
            "source": [
                "## 3. Let me `float` an idea by you...\n",
                "\n",
                "You may remember from the [reading](https://softdes.olin.edu/docs/readings/1-python-basics/#floating-point-numbers) that floats in Python can be a bit weird sometimes due to the way it represents floating-point numbers. In this problem, you'll get to write some code to convert the representation of floating-point numbers as binary bits (`1`s and `0`s) to a decimal number. By the end of this problem, you should have a function that you can use to convert a string of 32 binary bits, like `01000000010010001111010111000011`, to a number like 3.14.\n",
                "\n",
                "The file `floating_point.py` contains all of the functions that you will implement for this problem.\n",
                "\n",
                "### Split the Bitstring\n",
                "\n",
                "The string of 32 bits (sometimes called a *bitstring*) first needs to be split up into three parts that are used in different stages of the conversion process. The are split up as follows:\n",
                "\n",
                "* `sign` should be the first bit in the bitstring.\n",
                "* `exponent` should be the next 8 bits in the bitstring.\n",
                "* `fraction` should be the remainder (23 bits) of the bitstring.\n",
                "\n",
                "Implement this in the function `split_bits`, which has been partially implemented for you. Use string slicing to get the correct parts of `bit_string`.\n",
                "\n",
                "For fun, you can try out your function in the cell below:"
            ]
        },
        {
            "cell_type": "code",
            "execution_count": 75,
            "metadata": {},
            "outputs": [
                {
                    "output_type": "stream",
                    "name": "stdout",
                    "text": [
                        "Sign: 0\nExponent: 10000000\nFraction: 10010001111010111000011\n"
                    ]
                }
            ],
            "source": [
                "from floating_point import split_bits\n",
                "\n",
                "# Replace this with 32 bits of your choice\n",
                "bit_string = \"01000000010010001111010111000011\"\n",
                "\n",
                "sign, exponent, fraction = split_bits(bit_string)\n",
                "print(f\"Sign: {sign}\")\n",
                "print(f\"Exponent: {exponent}\")\n",
                "print(f\"Fraction: {fraction}\")"
            ]
        },
        {
            "cell_type": "markdown",
            "metadata": {},
            "source": [
                "### Convert Exponent\n",
                "\n",
                "Once we have the bits of `exponent`, we need to convert this to an integer that we will use in the final step of the conversion process.\n",
                "\n",
                "For this conversion, we turn the bits of `exponent` into a binary integer, and then subtract 127. A binary integer is similar to a decimal integer, but based on successive powers of 2 instead of powers of 10. For example, the number 140 in decimal can be written as\n",
                "\n",
                "$140 = 1 \\times 10^2 + 4 \\times 10^1 + 0 \\times 10^0 = 1 \\times 100 + 4 \\times 10$.\n",
                "\n",
                "Using a similar process, we could write this in binary as \n",
                "\n",
                "$140 = 1 \\times 2^7 + 0 \\times 2^6 + 0 \\times 2^5 + 0 \\times 2^4 + 1 \\times 2^3 + 1 \\times 2^2 + 0 \\times 2^1 + 0 \\times 2^0 = 128 + 8 + 4$.\n",
                "\n",
                "Thus in binary, we would write 140 as `10001100`. So if the bits of `exponent` were `10001100`, we would convert this to 140 and subtract 127 to get 13.\n",
                "\n",
                "Implement this in the function `convert_to_power`. While this function has not been implemented at all, we have provided a function `binary_to_int` that you can use to convert a bitstring like `10001100` into an integer like 140.\n",
                "\n",
                "For fun, you can try out your function in the cell below:"
            ]
        },
        {
            "cell_type": "code",
            "execution_count": 74,
            "metadata": {},
            "outputs": [
                {
                    "output_type": "execute_result",
                    "data": {
                        "text/plain": [
                            "140"
                        ]
                    },
                    "metadata": {},
                    "execution_count": 74
                }
            ],
            "source": [
                "from floating_point import convert_to_power\n",
                "\n",
                "# This can be however long you want, but it's best to keep it at 8 bits.\n",
                "exponent = \"10001100\"\n",
                "\n",
                "convert_to_power(exponent)"
            ]
        },
        {
            "cell_type": "markdown",
            "metadata": {},
            "source": [
                "### Convert Fraction\n",
                "\n",
                "We need to also convert the bits of `fraction` into its own floating-point number that we will use in the final step of the conversion process.\n",
                "\n",
                "This step is similar to the one you did for converting the bits of `exponent`, except for two key differences:\n",
                "\n",
                "* Before converting to a binary integer, you need to add a 1 bit to the start of the `fraction` bits, so if `fraction` were `00010001111010111000011`, you would convert `100010001111010111000011`.\n",
                "* After converting, divide by $2^{23}$ and return the result.\n",
                "\n",
                "Implement this in the function `convert_to_significand`. Again, feel free to use the `binary_to_int` function to help you convert binary bits into an integer.\n",
                "\n",
                "For fun, you can try out your function in the cell below:"
            ]
        },
        {
            "cell_type": "code",
            "execution_count": 73,
            "metadata": {},
            "outputs": [
                {
                    "output_type": "execute_result",
                    "data": {
                        "text/plain": [
                            "1.0700000524520874"
                        ]
                    },
                    "metadata": {},
                    "execution_count": 73
                }
            ],
            "source": [
                "from floating_point import convert_to_significand\n",
                "\n",
                "# This can be however long you want, but it's best to keep it at 23 bits.\n",
                "fraction = \"00010001111010111000011\"\n",
                "\n",
                "convert_to_significand(fraction)"
            ]
        },
        {
            "cell_type": "markdown",
            "metadata": {},
            "source": [
                "### Assemble the Float\n",
                "\n",
                "Now you are ready to put together all of the pieces to create a float. In this last function, you should start with a bitstring and use the functions you wrote above to go through the entire conversion process.\n",
                "\n",
                "Here are the rough steps for doing so:\n",
                "\n",
                "* Split the bitstring into its sign, exponent, and fraction parts.\n",
                "* Convert the exponent bits into a power (you could call this variable `power`).\n",
                "* Convert the fraction bits into a significand (you could call this variable `significand`).\n",
                "* Multiply the significand by 2 raised to the `power`.\n",
                "* If the sign bit is 1, make the result negative.\n",
                "* Return the result as your float.\n",
                "\n",
                "Implement this in the function `interpret_as_float`.\n",
                "\n",
                "For fun, you can try out your function and see if a bitstring like `01000000010010001111010111000011` succesfully converts to a float like 3.14."
            ]
        },
        {
            "cell_type": "code",
            "execution_count": 94,
            "metadata": {},
            "outputs": [
                {
                    "output_type": "stream",
                    "name": "stdout",
                    "text": [
                        "-6.28000020980835\n"
                    ]
                }
            ],
            "source": [
                "from floating_point import interpret_as_float\n",
                "\n",
                "# This can be however long you want, but it's best to keep it at 23 bits.\n",
                "bit_string = \"10000001010010001111010111000011\"\n",
                "\n",
                "interpret_as_float(bit_string)"
            ]
        },
        {
            "cell_type": "markdown",
            "metadata": {},
            "source": [
                "Congratulations! You've just written code to do some pretty sophisticated computation, especially for your first week of learning software design!\n",
                "\n",
                "With your floats all assembled, this calls for a parade."
            ]
        },
        {
            "cell_type": "markdown",
            "metadata": {},
            "source": [
                "## 4. Code Repair\n",
                "\n",
                "In this problem, you will practice reading and improving code written by others.\n",
                "\n",
                "The file `pricy_fall.py` defines a few variables and a function called `terminal_velocity`, which calculates and returns the terminal velocity of a falling sphere, starting from rest. This is the speed at which the sphere continues to fall if left on its own for long enough, which is when the force of gravity perfectly balances with the drag of the sphere as it falls through air.\n",
                "\n",
                "This function uses Euler's method to calculate the terminal velocity. The following is a step by step description of Euler's method, and closely tracks how the `terminal_velocity` function is implemented.\n",
                "\n",
                "1. Set up variables to keep track of the previous velocity and current velocity. We use these to determine when the sphere has reached terminal velocity.\n",
                "2. The force of gravity will be constant throughout this process, so calculate it once: $F_g = mg$, that is, the force of gravity $F_g$ is equal to the mass of the sphere $m$ times the acceleration due to gravity $g$.\n",
                "3. If the sphere is falling, and the current velocity is within some threshold of the previous velocity, the sphere is considered to be at terminal velocity.\n",
                "4. Otherwise, we can prepare to update the velocity. First, set the previous velocity to be the current velocity.\n",
                "5. Calculate the drag force acting on the sphere: $F_D = \\frac{1}{2}\\rho v^2 C_D A$, that is, the drag force $F_D$ is equal to half of the density of the air $\\rho$ times the square of the velocity $v$, times the drag coefficient $C_D$, times the cross-section area of the sphere $A$.\n",
                "6. To calculate the new velocity, add the forces of gravity and drag together to determine the net force acting on the sphere, then multiply this by the timestep $dt$ and divide by the mass $m$ to determine how much the sphere's velocity will change during the timestep. Add this change to the velocity.\n",
                "7. Go back to Step 3.\n",
                "\n",
                "Given this description, go through and update the variable names so that they are in line with our [variable name style guidelines](https://softdes.olin.edu/docs/readings/1-python-basics/#variable-name-style).\n",
                "\n",
                "Once you have done this, go through and fix any errors in the code. There may be a few errors in the code, which you can catch either by running the unit tests for this problem or by running the cell below:"
            ]
        },
        {
            "cell_type": "code",
            "execution_count": null,
            "metadata": {},
            "outputs": [],
            "source": [
                "from pricy_fall import terminal_velocity\n",
                "\n",
                "terminal_velocity(1, 2, 0.1)"
            ]
        },
        {
            "cell_type": "markdown",
            "metadata": {},
            "source": [
                "## 5. Submit\n",
                "\n",
                "Once you have finished this assignment, you can go ahead and submit!\n",
                "\n",
                "As a refresher, here is a summary of the steps you need to do to submit.\n",
                "\n",
                "1. Run unit tests on your code. You can do this by simply running `pytest` in this directory, or by running tests in VSCode. Be sure to run tests for each file you have changed.\n",
                "2. Autoformat your code with autopep8. The easiest way to do this is to run `autopep8 -i foo.py` (replacing `foo.py` with the files you changed).\n",
                "3. Run Pylint on your code by running the command `pylint *.py` in this directory.\n",
                "4. Fix any remaining style issues that Pylint catches in your code.\n",
                "5. Stage any changes that you have made to the code files. (You shouldn't stage any other changes, such as to this notebook.)\n",
                "6. Commit your changes to your repository.\n",
                "7. Push your changes to GitHub.\n",
                "8. Check that your changes appear in your GitHub fork, and then submit a URL to this directory on Canvas.\n"
            ]
        }
    ],
    "metadata": {
        "kernelspec": {
            "display_name": "Python 3",
            "language": "python",
            "name": "python3"
        },
        "language_info": {
            "codemirror_mode": {
                "name": "ipython",
                "version": 3
            },
            "file_extension": ".py",
            "mimetype": "text/x-python",
            "name": "python",
            "nbconvert_exporter": "python",
            "pygments_lexer": "ipython3",
            "version": "3.8.5-final"
        }
    },
    "nbformat": 4,
    "nbformat_minor": 4
}
